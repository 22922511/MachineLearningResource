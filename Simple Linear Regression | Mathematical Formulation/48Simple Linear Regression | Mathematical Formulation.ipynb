{
  "nbformat": 4,
  "nbformat_minor": 0,
  "metadata": {
    "colab": {
      "provenance": [],
      "authorship_tag": "ABX9TyNSj5r0tsRCWh6itHxuOiXa",
      "include_colab_link": true
    },
    "kernelspec": {
      "name": "python3",
      "display_name": "Python 3"
    },
    "language_info": {
      "name": "python"
    }
  },
  "cells": [
    {
      "cell_type": "markdown",
      "metadata": {
        "id": "view-in-github",
        "colab_type": "text"
      },
      "source": [
        "<a href=\"https://colab.research.google.com/github/22922511/MachineLearningResource/blob/main/Simple%20Linear%20Regression%20%7C%20Mathematical%20Formulation/48Simple%20Linear%20Regression%20%7C%20Mathematical%20Formulation.ipynb\" target=\"_parent\"><img src=\"https://colab.research.google.com/assets/colab-badge.svg\" alt=\"Open In Colab\"/></a>"
      ]
    },
    {
      "cell_type": "code",
      "execution_count": 1,
      "metadata": {
        "id": "t8iaKgjsDSJ3"
      },
      "outputs": [],
      "source": [
        "import pandas as pd\n",
        "import numpy as np\n",
        "import matplotlib.pyplot as plt\n",
        "import seaborn as sns"
      ]
    },
    {
      "cell_type": "code",
      "source": [
        "class LinearRegression:\n",
        "\n",
        "    def __init__(self):\n",
        "        self.m = None\n",
        "        self.b = None\n",
        "\n",
        "    def fit(self,X_train,y_train):\n",
        "\n",
        "        num = 0\n",
        "        den = 0\n",
        "\n",
        "        for i in range(X_train.shape[0]):\n",
        "\n",
        "            num = num + ((X_train[i] - X_train.mean())*(y_train[i] - y_train.mean()))\n",
        "            den = den + ((X_train[i] - X_train.mean())*(X_train[i] - X_train.mean()))\n",
        "\n",
        "        self.m = num/den\n",
        "        self.b = y_train.mean() - (self.m * X_train.mean())\n",
        "        print(self.m)\n",
        "        print(self.b)\n",
        "\n",
        "    def predict(self,X_test):\n",
        "\n",
        "        print(X_test)\n",
        "\n",
        "        return self.m * X_test + self.b"
      ],
      "metadata": {
        "id": "sI2WeT4FDhnh"
      },
      "execution_count": 104,
      "outputs": []
    },
    {
      "cell_type": "code",
      "source": [
        "df = pd.read_csv(\"/content/placement (2).csv\", index_col=None)\n"
      ],
      "metadata": {
        "id": "Cy1Unn-3Duoh"
      },
      "execution_count": 105,
      "outputs": []
    },
    {
      "cell_type": "code",
      "source": [
        "x=df.iloc[:,0:1].values\n",
        "y=df.iloc[:,-1].values"
      ],
      "metadata": {
        "id": "KJ3ka4MtGlpV"
      },
      "execution_count": 121,
      "outputs": []
    },
    {
      "cell_type": "code",
      "source": [
        "from sklearn.model_selection import train_test_split"
      ],
      "metadata": {
        "id": "8dzBXDIMGG6Y"
      },
      "execution_count": 122,
      "outputs": []
    },
    {
      "cell_type": "code",
      "source": [
        "x_train,x_test,y_train,y_test= train_test_split(x,y,test_size=0.2)"
      ],
      "metadata": {
        "id": "nMQ9xqZaGN1O"
      },
      "execution_count": 123,
      "outputs": []
    },
    {
      "cell_type": "code",
      "source": [
        "lr=LinearRegression()\n",
        "lr.fit(x_train,y_train)\n"
      ],
      "metadata": {
        "colab": {
          "base_uri": "https://localhost:8080/"
        },
        "id": "LZnzQiavG00x",
        "outputId": "5ce3a487-0f07-4e14-e7d6-f1f9b6ece764"
      },
      "execution_count": 124,
      "outputs": [
        {
          "output_type": "stream",
          "name": "stdout",
          "text": [
            "[0.55490089]\n",
            "[-0.88137372]\n"
          ]
        }
      ]
    },
    {
      "cell_type": "code",
      "source": [
        "lr.predict(x_test)-y_test"
      ],
      "metadata": {
        "colab": {
          "base_uri": "https://localhost:8080/"
        },
        "id": "W8dtA1L7G1bU",
        "outputId": "04314d03-d090-4397-e115-4252ea2418e8"
      },
      "execution_count": 125,
      "outputs": [
        {
          "output_type": "stream",
          "name": "stdout",
          "text": [
            "[[5.94]\n",
            " [5.64]\n",
            " [8.44]\n",
            " [6.19]\n",
            " [7.04]\n",
            " [6.5 ]\n",
            " [6.26]\n",
            " [7.56]\n",
            " [5.32]\n",
            " [5.88]\n",
            " [8.01]\n",
            " [7.11]\n",
            " [6.1 ]\n",
            " [6.42]\n",
            " [6.1 ]\n",
            " [8.94]\n",
            " [7.38]\n",
            " [7.33]\n",
            " [6.22]\n",
            " [7.12]\n",
            " [8.31]\n",
            " [6.85]\n",
            " [4.79]\n",
            " [5.23]\n",
            " [5.95]\n",
            " [6.47]\n",
            " [7.91]\n",
            " [8.71]\n",
            " [6.63]\n",
            " [6.6 ]\n",
            " [8.99]\n",
            " [6.66]\n",
            " [6.92]\n",
            " [6.89]\n",
            " [7.28]\n",
            " [7.21]\n",
            " [6.86]\n",
            " [7.3 ]\n",
            " [5.12]\n",
            " [6.35]]\n"
          ]
        },
        {
          "output_type": "execute_result",
          "data": {
            "text/plain": [
              "array([[ 0.17473757,  0.31473757, -1.61526243, ..., -0.91526243,\n",
              "         0.40473757, -0.31526243],\n",
              "       [ 0.0082673 ,  0.1482673 , -1.7817327 , ..., -1.0817327 ,\n",
              "         0.2382673 , -0.4817327 ],\n",
              "       [ 1.5619898 ,  1.7019898 , -0.2280102 , ...,  0.4719898 ,\n",
              "         1.7919898 ,  1.0719898 ],\n",
              "       ...,\n",
              "       [ 0.92940278,  1.06940278, -0.86059722, ..., -0.16059722,\n",
              "         1.15940278,  0.43940278],\n",
              "       [-0.28028116, -0.14028116, -2.07028116, ..., -1.37028116,\n",
              "        -0.05028116, -0.77028116],\n",
              "       [ 0.40224693,  0.54224693, -1.38775307, ..., -0.68775307,\n",
              "         0.63224693, -0.08775307]])"
            ]
          },
          "metadata": {},
          "execution_count": 125
        }
      ]
    },
    {
      "cell_type": "code",
      "source": [
        "y_test"
      ],
      "metadata": {
        "colab": {
          "base_uri": "https://localhost:8080/"
        },
        "id": "Hm6j1OgXHXzx",
        "outputId": "da606617-9b9a-4608-c251-3b57911aa13f"
      },
      "execution_count": 115,
      "outputs": [
        {
          "output_type": "execute_result",
          "data": {
            "text/plain": [
              "array([3.67, 2.61, 2.31, 2.25, 3.13, 2.57, 2.59, 2.92, 2.35, 3.14, 3.89,\n",
              "       2.99, 3.34, 2.48, 4.06, 3.67, 1.48, 3.16, 2.21, 3.33, 2.17, 3.74,\n",
              "       2.93, 3.23, 2.84, 4.09, 2.66, 4.1 , 3.76, 3.09, 2.37, 2.72, 2.43,\n",
              "       2.51, 1.86, 1.37, 3.02, 3.42, 2.61, 1.73])"
            ]
          },
          "metadata": {},
          "execution_count": 115
        }
      ]
    },
    {
      "cell_type": "code",
      "source": [],
      "metadata": {
        "id": "ylOrnAf8JnJv"
      },
      "execution_count": null,
      "outputs": []
    }
  ]
}